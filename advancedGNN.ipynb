{
 "cells": [
  {
   "cell_type": "code",
   "execution_count": 254,
   "id": "4bcec510",
   "metadata": {},
   "outputs": [],
   "source": [
    "import torch\n",
    "import torch.nn as nn\n",
    "import torch.nn.functional as F\n",
    "from torch_geometric.nn import SAGEConv, Node2Vec, GATConv, GATv2Conv\n",
    "from torch_geometric.data import Data\n",
    "from torch_geometric.utils import degree, dropout_edge\n",
    "import pandas as pd\n",
    "import random\n",
    "from tqdm import tqdm\n",
    "from sklearn.metrics import f1_score\n",
    "import numpy as np\n",
    "from sklearn.model_selection import train_test_split\n",
    "import xgboost as xgb\n",
    "from sklearn.preprocessing import StandardScaler\n",
    "from sklearn.metrics import precision_recall_curve, auc\n",
    "import matplotlib.pyplot as plt"
   ]
  },
  {
   "cell_type": "code",
   "execution_count": 3,
   "id": "e7d10303",
   "metadata": {},
   "outputs": [
    {
     "name": "stdout",
     "output_type": "stream",
     "text": [
      "2.5.1+cpu\n"
     ]
    }
   ],
   "source": [
    "print(torch.__version__)"
   ]
  },
  {
   "cell_type": "code",
   "execution_count": 4,
   "id": "d5c93bb2",
   "metadata": {},
   "outputs": [],
   "source": [
    "train_df = pd.read_csv(\"train.csv\")\n",
    "test_df = pd.read_csv(\"test.csv\")"
   ]
  },
  {
   "cell_type": "code",
   "execution_count": 16,
   "id": "712844f3",
   "metadata": {},
   "outputs": [],
   "source": [
    "all_nodes = pd.unique(pd.concat([train_df['node1'], train_df['node2'], test_df['node1'], test_df['node2']]))\n",
    "node2idx = {node: idx for idx, node in enumerate(all_nodes)}\n",
    "n_nodes = len(node2idx)\n",
    "\n",
    "train_df['node1'] = train_df['node1'].map(node2idx)\n",
    "train_df['node2'] = train_df['node2'].map(node2idx)\n",
    "test_df['node1'] = test_df['node1'].map(node2idx)\n",
    "test_df['node2'] = test_df['node2'].map(node2idx)\n",
    "\n",
    "edge_index = torch.tensor(train_df[['node1', 'node2']].values.T, dtype=torch.long)\n",
    "reversed_edges = edge_index[[1, 0], :]  # Reverse direction\n",
    "edge_index = torch.cat([edge_index, reversed_edges], dim=1)\n",
    "data = Data(edge_index=edge_index)"
   ]
  },
  {
   "cell_type": "code",
   "execution_count": 129,
   "id": "37436a1a",
   "metadata": {},
   "outputs": [
    {
     "name": "stderr",
     "output_type": "stream",
     "text": [
      "                                                                              \r"
     ]
    },
    {
     "name": "stdout",
     "output_type": "stream",
     "text": [
      "Node2Vec Epoch 5, Total Loss: 121.3808\n"
     ]
    },
    {
     "name": "stderr",
     "output_type": "stream",
     "text": [
      "                                                                               \r"
     ]
    },
    {
     "name": "stdout",
     "output_type": "stream",
     "text": [
      "Node2Vec Epoch 10, Total Loss: 88.4866\n"
     ]
    },
    {
     "name": "stderr",
     "output_type": "stream",
     "text": [
      "                                                                               \r"
     ]
    },
    {
     "name": "stdout",
     "output_type": "stream",
     "text": [
      "Node2Vec Epoch 15, Total Loss: 78.9246\n"
     ]
    },
    {
     "name": "stderr",
     "output_type": "stream",
     "text": [
      "                                                                               \r"
     ]
    },
    {
     "name": "stdout",
     "output_type": "stream",
     "text": [
      "Node2Vec Epoch 20, Total Loss: 74.6983\n"
     ]
    },
    {
     "name": "stderr",
     "output_type": "stream",
     "text": [
      "                                                                               \r"
     ]
    },
    {
     "name": "stdout",
     "output_type": "stream",
     "text": [
      "Node2Vec Epoch 25, Total Loss: 72.5080\n"
     ]
    },
    {
     "name": "stderr",
     "output_type": "stream",
     "text": [
      "                                                                               \r"
     ]
    },
    {
     "name": "stdout",
     "output_type": "stream",
     "text": [
      "Node2Vec Epoch 30, Total Loss: 71.2724\n"
     ]
    },
    {
     "name": "stderr",
     "output_type": "stream",
     "text": [
      "                                                                               \r"
     ]
    },
    {
     "name": "stdout",
     "output_type": "stream",
     "text": [
      "Node2Vec Epoch 35, Total Loss: 70.5714\n"
     ]
    },
    {
     "name": "stderr",
     "output_type": "stream",
     "text": [
      "                                                                               \r"
     ]
    },
    {
     "name": "stdout",
     "output_type": "stream",
     "text": [
      "Node2Vec Epoch 40, Total Loss: 70.1833\n"
     ]
    },
    {
     "name": "stderr",
     "output_type": "stream",
     "text": [
      "                                                                               \r"
     ]
    },
    {
     "name": "stdout",
     "output_type": "stream",
     "text": [
      "Node2Vec Epoch 45, Total Loss: 69.9799\n"
     ]
    },
    {
     "name": "stderr",
     "output_type": "stream",
     "text": [
      "                                                                               "
     ]
    },
    {
     "name": "stdout",
     "output_type": "stream",
     "text": [
      "Node2Vec Epoch 50, Total Loss: 69.9021\n"
     ]
    },
    {
     "name": "stderr",
     "output_type": "stream",
     "text": [
      "\r"
     ]
    }
   ],
   "source": [
    "node2vec = Node2Vec(edge_index, embedding_dim=128, walk_length=40, context_size=15,\n",
    "                    walks_per_node=20, num_nodes=n_nodes, sparse=True)\n",
    "loader = node2vec.loader(batch_size=128, shuffle=True)\n",
    "optimizer_n2v = torch.optim.SparseAdam(list(node2vec.parameters()), lr=0.01)\n",
    "\n",
    "\n",
    "def train_node2vec():\n",
    "    node2vec.train()\n",
    "    for epoch in range(1, 51):\n",
    "        total_loss = 0\n",
    "        pbar = tqdm(loader, desc=f\"Node2Vec Epoch {epoch}\", leave=False)\n",
    "        for pos_rw, neg_rw in pbar:\n",
    "            optimizer_n2v.zero_grad()\n",
    "            loss = node2vec.loss(pos_rw, neg_rw)\n",
    "            loss.backward()\n",
    "            optimizer_n2v.step()\n",
    "            total_loss += loss.item()\n",
    "            pbar.set_postfix(loss=f\"{loss.item():.4f}\")\n",
    "        if epoch % 5 == 0:\n",
    "            tqdm.write(f\"Node2Vec Epoch {epoch}, Total Loss: {total_loss:.4f}\")\n",
    "\n",
    "train_node2vec()\n",
    "x = node2vec.embedding.weight.detach()\n",
    "torch.save(x, \"node2vec_embeddings_128.pt\")"
   ]
  },
  {
   "cell_type": "code",
   "execution_count": 191,
   "id": "1dfe90b4",
   "metadata": {},
   "outputs": [
    {
     "name": "stderr",
     "output_type": "stream",
     "text": [
      "C:\\Users\\fabri\\AppData\\Local\\Temp\\ipykernel_9060\\3186582794.py:1: FutureWarning: You are using `torch.load` with `weights_only=False` (the current default value), which uses the default pickle module implicitly. It is possible to construct malicious pickle data which will execute arbitrary code during unpickling (See https://github.com/pytorch/pytorch/blob/main/SECURITY.md#untrusted-models for more details). In a future release, the default value for `weights_only` will be flipped to `True`. This limits the functions that could be executed during unpickling. Arbitrary objects will no longer be allowed to be loaded via this mode unless they are explicitly allowlisted by the user via `torch.serialization.add_safe_globals`. We recommend you start setting `weights_only=True` for any use case where you don't have full control of the loaded file. Please open an issue on GitHub for any issues related to this experimental feature.\n",
      "  x = torch.load(\"node2vec_embeddings.pt\")\n"
     ]
    }
   ],
   "source": [
    "x = torch.load(\"node2vec_embeddings.pt\")\n",
    "\n",
    "in_deg = torch.bincount(edge_index[1], minlength=n_nodes).float()\n",
    "out_deg = torch.bincount(edge_index[0], minlength=n_nodes).float()\n",
    "\n",
    "import networkx as nx\n",
    "\n",
    "G = nx.DiGraph()\n",
    "G.add_nodes_from(range(n_nodes))  # ensures all nodes are included\n",
    "G.add_edges_from(edge_index.t().tolist())\n",
    "\n",
    "pagerank = nx.pagerank(G)\n",
    "pr_tensor = torch.tensor([pagerank.get(i, 0.0) for i in range(n_nodes)])\n",
    "\n",
    "adj_list = [set() for _ in range(n_nodes)]\n",
    "for u, v in edge_index.t().tolist():\n",
    "    adj_list[u].add(v)\n",
    "\n",
    "\n",
    "def get_features(u, v):\n",
    "    neighbors_u = adj_list[u]\n",
    "    neighbors_v = adj_list[v]\n",
    "\n",
    "    intersection = neighbors_u & neighbors_v\n",
    "    union = neighbors_u | neighbors_v\n",
    "    jaccard = len(intersection) / len(union) if union else 0.0\n",
    "    aa = sum(1 / np.log(len(adj_list[n]) + 1e-6) for n in intersection)\n",
    "    return jaccard, aa\n"
   ]
  },
  {
   "cell_type": "code",
   "execution_count": 192,
   "id": "19804cc0",
   "metadata": {},
   "outputs": [
    {
     "data": {
      "image/png": "[encoded data removed]",
      "text/plain": [
       "<Figure size 640x480 with 1 Axes>"
      ]
     },
     "metadata": {},
     "output_type": "display_data"
    }
   ],
   "source": [
    "from sklearn.manifold import TSNE\n",
    "import matplotlib.pyplot as plt\n",
    "\n",
    "z_np = x.cpu().numpy()  # x = node2vec.embedding.weight.detach()\n",
    "z_2d = TSNE(n_components=2).fit_transform(z_np)\n",
    "\n",
    "plt.scatter(z_2d[:, 0], z_2d[:, 1], s=3)\n",
    "plt.title(\"Node2Vec Embeddings (t-SNE)\")\n",
    "plt.show()"
   ]
  },
  {
   "cell_type": "code",
   "execution_count": 148,
   "id": "c867873b",
   "metadata": {},
   "outputs": [],
   "source": [
    "class Transformer(nn.Module):\n",
    "    def __init__(self, embedding_dim=128):\n",
    "        super().__init__()\n",
    "        self.conv1 = GATv2Conv(embedding_dim, embedding_dim, heads=2, concat=False)\n",
    "        self.conv2 = GATv2Conv(embedding_dim, embedding_dim, heads=2, concat=False)\n",
    "        self.dropout = nn.Dropout(0.15)\n",
    "\n",
    "        # 4 * emb + deg_u + deg_v + dot + cos = 4*64 + 2 + 1 + 1 = 260\n",
    "        self.interaction = nn.Sequential(\n",
    "            nn.Linear(4 * embedding_dim + 2 + 2, 64),\n",
    "            nn.ReLU()\n",
    "        )\n",
    "\n",
    "        self.mlp = nn.Sequential(\n",
    "            nn.Linear(64, 1)\n",
    "        )\n",
    "\n",
    "    def encode(self, x, edge_index):\n",
    "        x_res = x\n",
    "        x = self.conv1(x, edge_index)\n",
    "        x = self.dropout(F.relu(x + x_res))\n",
    "        x = self.conv2(x, edge_index)\n",
    "        return x\n",
    "\n",
    "    def decode(self, z, edge_index):\n",
    "        src, dst = edge_index\n",
    "        hadamard = z[src] * z[dst]\n",
    "        l1 = torch.abs(z[src] - z[dst])\n",
    "        deg_u = torch.log1p(deg[src])\n",
    "        deg_v = torch.log1p(deg[dst])\n",
    "        dot = (z[src] * z[dst]).sum(dim=1, keepdim=True)\n",
    "        cos = F.cosine_similarity(z[src], z[dst], dim=1).unsqueeze(1)\n",
    "\n",
    "        concat = torch.cat([z[src], z[dst], hadamard, l1, deg_u, deg_v, dot, cos], dim=1)\n",
    "        x = self.interaction(concat)\n",
    "        return self.mlp(x).squeeze()"
   ]
  },
  {
   "cell_type": "code",
   "execution_count": 250,
   "id": "e8958ea4",
   "metadata": {},
   "outputs": [],
   "source": [
    "class Transformerv1_5(nn.Module):\n",
    "    def __init__(self, embedding_dim=64):\n",
    "        super().__init__()\n",
    "\n",
    "        self.conv1 = GATv2Conv(embedding_dim, embedding_dim, heads=2, concat=False)\n",
    "        self.conv2 = GATv2Conv(embedding_dim, embedding_dim, heads=2, concat=False)\n",
    "        self.conv3 = GATv2Conv(embedding_dim, embedding_dim, heads=2, concat=False)\n",
    "\n",
    "        self.norm1 = nn.BatchNorm1d(embedding_dim)\n",
    "        self.norm2 = nn.BatchNorm1d(embedding_dim)\n",
    "        self.norm3 = nn.BatchNorm1d(embedding_dim)\n",
    "        self.dropout = nn.Dropout(0.3)\n",
    "\n",
    "        self.edge_attn = nn.Sequential(\n",
    "            nn.Linear(2 * embedding_dim, 64),\n",
    "            nn.ReLU(),\n",
    "            nn.Linear(64, 1)\n",
    "        )\n",
    "\n",
    "        self.interaction = nn.Sequential(\n",
    "            nn.Linear(267, 128),  # dot, cos, 4 degree features, 2 pagerank\n",
    "            nn.ReLU(),\n",
    "            nn.Linear(128, 64),\n",
    "            nn.ReLU()\n",
    "        )\n",
    "\n",
    "        self.norm = nn.LayerNorm(64)\n",
    "\n",
    "        self.mlp = nn.Sequential(\n",
    "            nn.Linear(64, 64),\n",
    "            nn.ReLU(),\n",
    "            nn.Linear(64, 1)\n",
    "        )\n",
    "\n",
    "    def encode(self, x, edge_index):\n",
    "        x1 = self.dropout(F.relu(self.norm1(self.conv1(x, edge_index) + x)))\n",
    "        x2 = self.dropout(F.relu(self.norm2(self.conv2(x1, edge_index) + x1)))\n",
    "        x3 = self.dropout(F.relu(self.norm3(self.conv3(x2, edge_index) + x2 + x)))\n",
    "        return x3\n",
    "\n",
    "    def decode(self, z, edge_index):\n",
    "        src, dst = edge_index\n",
    "        hadamard = z[src] * z[dst]\n",
    "        l1 = torch.abs(z[src] - z[dst])\n",
    "        dot = (z[src] * z[dst]).sum(dim=1, keepdim=True)\n",
    "        cos = F.cosine_similarity(z[src], z[dst], dim=1).unsqueeze(1)\n",
    "\n",
    "        deg_u_in = torch.log1p(in_deg[src]).unsqueeze(1)\n",
    "        deg_v_in = torch.log1p(in_deg[dst]).unsqueeze(1)\n",
    "        deg_u_out = torch.log1p(out_deg[src]).unsqueeze(1)\n",
    "        deg_v_out = torch.log1p(out_deg[dst]).unsqueeze(1)\n",
    "\n",
    "        pr_u = pr_tensor[src].unsqueeze(1)\n",
    "        pr_v = pr_tensor[dst].unsqueeze(1)\n",
    "\n",
    "        def safe_log1p(x):\n",
    "            return torch.log1p(torch.clamp(x, min=0, max=1e6))\n",
    "\n",
    "        common = torch.tensor([\n",
    "            len(set(G.neighbors(u)).intersection(G.neighbors(v)))\n",
    "            for u, v in zip(src.tolist(), dst.tolist())\n",
    "        ], dtype=torch.float32).unsqueeze(1)\n",
    "        common = safe_log1p(common) / 5.0         \n",
    "        \n",
    "        # pa = torch.tensor([\n",
    "        #     G.degree(u) * G.degree(v)\n",
    "        #     for u, v in zip(src.tolist(), dst.tolist())\n",
    "        # ], dtype=torch.float32).unsqueeze(1)\n",
    "        # pa = safe_log1p(pa) / 10.0 \n",
    "\n",
    "        jaccard = torch.tensor([\n",
    "            len(set(G.neighbors(u)).intersection(G.neighbors(v))) / max(len(set(G.neighbors(u)).union(G.neighbors(v))), 1)\n",
    "            for u, v in zip(src.tolist(), dst.tolist())\n",
    "        ], dtype=torch.float32).unsqueeze(1)\n",
    "        jaccard = safe_log1p(jaccard) / 5.0\n",
    "\n",
    "        edge_feat = torch.cat([z[src], z[dst]], dim=1)\n",
    "        att_score = self.edge_attn(edge_feat)\n",
    "\n",
    "\n",
    "        # print(\"z[src]\", z[src].shape)\n",
    "        # print(\"z[dst]\", z[dst].shape)\n",
    "        # print(\"hadamard\", hadamard.shape)\n",
    "        # print(\"l1\", l1.shape)\n",
    "        # print(\"dot\", dot.shape)\n",
    "        # print(\"cos\", cos.shape)\n",
    "        # print(\"deg_u_in\", deg_u_in.shape)\n",
    "        # print(\"common\", common.shape)\n",
    "\n",
    "\n",
    "        concat = torch.cat([\n",
    "            z[src], z[dst], hadamard, l1,\n",
    "            att_score,\n",
    "            dot, cos,\n",
    "            deg_u_in, deg_v_in,\n",
    "            deg_u_out, deg_v_out,\n",
    "            pr_u, pr_v,\n",
    "            common, jaccard\n",
    "        ], dim=1)\n",
    "        # print(\"Concat shape:\", concat.shape)\n",
    "        assert concat.shape[1] == 267, f\"Expected 266 features, got {concat.shape[1]}\"\n",
    "\n",
    "\n",
    "        x = self.interaction(concat)\n",
    "        x = self.norm(x)\n",
    "        return self.mlp(x).squeeze()\n",
    "\n"
   ]
  },
  {
   "cell_type": "code",
   "execution_count": null,
   "id": "a3578c91",
   "metadata": {},
   "outputs": [],
   "source": [
    "# class Transformerv2(nn.Module):\n",
    "#     def __init__(self, embedding_dim=64):\n",
    "#         super().__init__()\n",
    "#         self.conv1 = GATv2Conv(embedding_dim, embedding_dim, heads=2, concat=False)\n",
    "#         self.conv2 = GATv2Conv(embedding_dim, embedding_dim, heads=2, concat=False)\n",
    "#         self.dropout = nn.Dropout(0.3)\n",
    "#         self.mlp = nn.Sequential(\n",
    "#             nn.Linear(4 * embedding_dim + 2, 64),\n",
    "#             nn.ReLU(),\n",
    "#             nn.Linear(64, 1)\n",
    "#         )\n",
    "\n",
    "#     def encode(self, x, edge_index):\n",
    "#         if self.training:\n",
    "#             edge_index, _ = dropout_adj(edge_index, p=0.2, force_undirected=True)\n",
    "#         x1 = self.dropout(F.relu(self.conv1(x, edge_index) + x))\n",
    "#         x2 = self.dropout(F.relu(self.conv2(x1, edge_index) + x1))\n",
    "#         return x2\n",
    "\n",
    "#     def decode(self, z, edge_index):\n",
    "#         src, dst = edge_index\n",
    "#         hadamard = z[src] * z[dst]\n",
    "#         l1 = torch.abs(z[src] - z[dst])\n",
    "#         dot = (z[src] * z[dst]).sum(dim=1, keepdim=True)\n",
    "#         cos = F.cosine_similarity(z[src], z[dst], dim=1).unsqueeze(1)\n",
    "#         concat = torch.cat([z[src], z[dst], hadamard, l1, dot, cos], dim=1)\n",
    "#         return self.mlp(concat).squeeze()"
   ]
  },
  {
   "cell_type": "code",
   "execution_count": 251,
   "id": "0495c2cb",
   "metadata": {},
   "outputs": [],
   "source": [
    "model = Transformerv1_5()\n",
    "optimizer = torch.optim.Adam(model.parameters(), lr=0.01, weight_decay=1e-4)\n",
    "scheduler = torch.optim.lr_scheduler.CosineAnnealingLR(optimizer, T_max=100)\n",
    "criterion = nn.BCEWithLogitsLoss()"
   ]
  },
  {
   "cell_type": "code",
   "execution_count": 236,
   "id": "0fdb13b4",
   "metadata": {},
   "outputs": [],
   "source": [
    "def sample_mixed_negatives(z, edge_index, num_nodes, num_samples, hard_frac=0.5):\n",
    "    num_hard = int(num_samples * hard_frac)\n",
    "    num_random = num_samples - num_hard\n",
    "\n",
    "    # --- Hard Negatives ---\n",
    "    with torch.no_grad():\n",
    "        z_norm = F.normalize(z, dim=1)\n",
    "        sim = torch.matmul(z_norm, z_norm.T)\n",
    "        _, topk = torch.topk(sim, k=30, dim=1)\n",
    "\n",
    "        edge_set = set(map(tuple, edge_index.t().tolist()))\n",
    "        edge_set |= set((v, u) for (u, v) in edge_set)\n",
    "\n",
    "        hard_negs = set()\n",
    "        for u in range(num_nodes):\n",
    "            for v in topk[u].tolist():\n",
    "                if u != v and (u, v) not in edge_set:\n",
    "                    hard_negs.add((u, v))\n",
    "                if len(hard_negs) >= num_hard:\n",
    "                    break\n",
    "            if len(hard_negs) >= num_hard:\n",
    "                break\n",
    "        hard_neg_edge = torch.tensor(list(hard_negs), dtype=torch.long).t()\n",
    "\n",
    "    # --- Random Negatives ---\n",
    "    random_negs = set()\n",
    "    while len(random_negs) < num_random:\n",
    "        u = random.randint(0, num_nodes - 1)\n",
    "        v = random.randint(0, num_nodes - 1)\n",
    "        if u != v and (u, v) not in edge_set:\n",
    "            random_negs.add((u, v))\n",
    "    random_neg_edge = torch.tensor(list(random_negs), dtype=torch.long).t()\n",
    "\n",
    "    return torch.cat([hard_neg_edge, random_neg_edge], dim=1)\n",
    "\n",
    "def sample_neg_edge_fast(edge_index, num_nodes, num_samples):\n",
    "    edge_set = set(map(tuple, edge_index.t().tolist()))\n",
    "    neg_edges = set()\n",
    "    while len(neg_edges) < num_samples:\n",
    "        u = random.randint(0, num_nodes - 1)\n",
    "        v = random.randint(0, num_nodes - 1)\n",
    "        if u != v and (u, v) not in edge_set:\n",
    "            neg_edges.add((u, v))\n",
    "    return torch.tensor(list(neg_edges), dtype=torch.long).t()\n"
   ]
  },
  {
   "cell_type": "code",
   "execution_count": 256,
   "id": "d57adf74",
   "metadata": {},
   "outputs": [
    {
     "name": "stderr",
     "output_type": "stream",
     "text": [
      "Training:   5%|▌         | 10/200 [00:13<04:13,  1.34s/it]"
     ]
    },
    {
     "name": "stdout",
     "output_type": "stream",
     "text": [
      "Epoch 10, Loss: 0.0602\n"
     ]
    },
    {
     "name": "stderr",
     "output_type": "stream",
     "text": [
      "Training:  10%|█         | 20/200 [00:28<04:15,  1.42s/it]"
     ]
    },
    {
     "name": "stdout",
     "output_type": "stream",
     "text": [
      "Epoch 20, Loss: 0.0554\n"
     ]
    },
    {
     "name": "stderr",
     "output_type": "stream",
     "text": [
      "Training:  15%|█▌        | 30/200 [00:42<03:55,  1.38s/it]"
     ]
    },
    {
     "name": "stdout",
     "output_type": "stream",
     "text": [
      "Epoch 30, Loss: 0.0536\n"
     ]
    },
    {
     "name": "stderr",
     "output_type": "stream",
     "text": [
      "Training:  20%|██        | 40/200 [00:56<03:53,  1.46s/it]"
     ]
    },
    {
     "name": "stdout",
     "output_type": "stream",
     "text": [
      "Epoch 40, Loss: 0.0509\n"
     ]
    },
    {
     "name": "stderr",
     "output_type": "stream",
     "text": [
      "Training:  25%|██▌       | 50/200 [01:11<03:45,  1.50s/it]"
     ]
    },
    {
     "name": "stdout",
     "output_type": "stream",
     "text": [
      "Epoch 50, Loss: 0.0496\n"
     ]
    },
    {
     "name": "stderr",
     "output_type": "stream",
     "text": [
      "Training:  30%|███       | 60/200 [01:25<03:18,  1.42s/it]"
     ]
    },
    {
     "name": "stdout",
     "output_type": "stream",
     "text": [
      "Epoch 60, Loss: 0.0499\n"
     ]
    },
    {
     "name": "stderr",
     "output_type": "stream",
     "text": [
      "Training:  35%|███▌      | 70/200 [01:39<03:02,  1.40s/it]"
     ]
    },
    {
     "name": "stdout",
     "output_type": "stream",
     "text": [
      "Epoch 70, Loss: 0.0496\n"
     ]
    },
    {
     "name": "stderr",
     "output_type": "stream",
     "text": [
      "Training:  40%|████      | 80/200 [01:53<02:45,  1.38s/it]"
     ]
    },
    {
     "name": "stdout",
     "output_type": "stream",
     "text": [
      "Epoch 80, Loss: 0.0503\n"
     ]
    },
    {
     "name": "stderr",
     "output_type": "stream",
     "text": [
      "Training:  45%|████▌     | 90/200 [02:08<02:35,  1.41s/it]"
     ]
    },
    {
     "name": "stdout",
     "output_type": "stream",
     "text": [
      "Epoch 90, Loss: 0.0486\n"
     ]
    },
    {
     "name": "stderr",
     "output_type": "stream",
     "text": [
      "Training:  50%|█████     | 100/200 [02:22<02:22,  1.42s/it]"
     ]
    },
    {
     "name": "stdout",
     "output_type": "stream",
     "text": [
      "Epoch 100, Loss: 0.0493\n"
     ]
    },
    {
     "name": "stderr",
     "output_type": "stream",
     "text": [
      "Training:  55%|█████▌    | 110/200 [02:36<02:09,  1.44s/it]"
     ]
    },
    {
     "name": "stdout",
     "output_type": "stream",
     "text": [
      "Epoch 110, Loss: 0.0480\n"
     ]
    },
    {
     "name": "stderr",
     "output_type": "stream",
     "text": [
      "Training:  60%|██████    | 120/200 [02:50<01:48,  1.36s/it]"
     ]
    },
    {
     "name": "stdout",
     "output_type": "stream",
     "text": [
      "Epoch 120, Loss: 0.0480\n"
     ]
    },
    {
     "name": "stderr",
     "output_type": "stream",
     "text": [
      "Training:  65%|██████▌   | 130/200 [03:04<01:38,  1.41s/it]"
     ]
    },
    {
     "name": "stdout",
     "output_type": "stream",
     "text": [
      "Epoch 130, Loss: 0.0471\n"
     ]
    },
    {
     "name": "stderr",
     "output_type": "stream",
     "text": [
      "Training:  70%|███████   | 140/200 [03:18<01:25,  1.43s/it]"
     ]
    },
    {
     "name": "stdout",
     "output_type": "stream",
     "text": [
      "Epoch 140, Loss: 0.0488\n"
     ]
    },
    {
     "name": "stderr",
     "output_type": "stream",
     "text": [
      "Training:  75%|███████▌  | 150/200 [03:32<01:09,  1.39s/it]"
     ]
    },
    {
     "name": "stdout",
     "output_type": "stream",
     "text": [
      "Epoch 150, Loss: 0.0485\n"
     ]
    },
    {
     "name": "stderr",
     "output_type": "stream",
     "text": [
      "Training:  80%|████████  | 160/200 [03:46<00:56,  1.41s/it]"
     ]
    },
    {
     "name": "stdout",
     "output_type": "stream",
     "text": [
      "Epoch 160, Loss: 0.0551\n"
     ]
    },
    {
     "name": "stderr",
     "output_type": "stream",
     "text": [
      "Training:  85%|████████▌ | 170/200 [04:00<00:42,  1.43s/it]"
     ]
    },
    {
     "name": "stdout",
     "output_type": "stream",
     "text": [
      "Epoch 170, Loss: 0.0492\n"
     ]
    },
    {
     "name": "stderr",
     "output_type": "stream",
     "text": [
      "Training:  90%|█████████ | 180/200 [04:14<00:27,  1.36s/it]"
     ]
    },
    {
     "name": "stdout",
     "output_type": "stream",
     "text": [
      "Epoch 180, Loss: 0.0492\n"
     ]
    },
    {
     "name": "stderr",
     "output_type": "stream",
     "text": [
      "Training:  95%|█████████▌| 190/200 [04:28<00:13,  1.39s/it]"
     ]
    },
    {
     "name": "stdout",
     "output_type": "stream",
     "text": [
      "Epoch 190, Loss: 0.0480\n"
     ]
    },
    {
     "name": "stderr",
     "output_type": "stream",
     "text": [
      "Training: 100%|██████████| 200/200 [04:42<00:00,  1.41s/it]"
     ]
    },
    {
     "name": "stdout",
     "output_type": "stream",
     "text": [
      "Epoch 200, Loss: 0.1429\n"
     ]
    },
    {
     "name": "stderr",
     "output_type": "stream",
     "text": [
      "\n"
     ]
    }
   ],
   "source": [
    "def train():\n",
    "    model.train()\n",
    "    optimizer.zero_grad()\n",
    "\n",
    "    drop_edge_index, _ = dropout_edge(edge_index, p=0.1, force_undirected=True)\n",
    "    z = model.encode(x, drop_edge_index)\n",
    "\n",
    "    pos_edge = edge_index\n",
    "    neg_edge = sample_mixed_negatives(z, edge_index, n_nodes, pos_edge.size(1) // 2, hard_frac=0.5)\n",
    "    #neg_edge = sample_neg_edge_fast(edge_index, n_nodes, pos_edge.size(1))\n",
    "\n",
    "    smooth_pos_label = 0.9\n",
    "    smooth_neg_label = 0.1\n",
    "\n",
    "    pos_pred = model.decode(z, pos_edge)\n",
    "    #pos_label = torch.ones(pos_pred.size(0))\n",
    "    pos_label = torch.full_like(pos_pred, smooth_pos_label)\n",
    "\n",
    "    neg_pred = model.decode(z, neg_edge)\n",
    "    #neg_label = torch.zeros(neg_pred.size(0))\n",
    "    neg_label = torch.full_like(neg_pred, smooth_neg_label)\n",
    "\n",
    "    def focal_loss(logits, targets, alpha=0.75, gamma=2.0):\n",
    "        probs = torch.sigmoid(logits)\n",
    "        ce_los = F.binary_cross_entropy_with_logits(logits, targets, reduction='none')\n",
    "        p_t = probs * targets + (1 - probs) * (1 - targets)\n",
    "        loss = alpha * ce_los * ((1 - p_t) ** gamma)\n",
    "        return loss.mean()\n",
    "        \n",
    "    pos_loss = focal_loss(pos_pred, pos_label)\n",
    "    neg_loss = focal_loss(neg_pred, neg_label)\n",
    "\n",
    "    total_loss = pos_loss + 0.4 * neg_loss\n",
    "    total_loss.backward()\n",
    "    optimizer.step()\n",
    "    scheduler.step()\n",
    "\n",
    "    return total_loss.item()\n",
    "\n",
    "for epoch in tqdm(range(1, 201), desc=\"Training\"):\n",
    "    loss = train()\n",
    "    if epoch % 10 == 0:\n",
    "        tqdm.write(f\"Epoch {epoch}, Loss: {loss:.4f}\")"
   ]
  },
  {
   "cell_type": "markdown",
   "id": "cf9eaaba",
   "metadata": {},
   "source": [
    "Generate threshold using train.csv (pretty much wrong)\n"
   ]
  },
  {
   "cell_type": "code",
   "execution_count": 164,
   "id": "87e09b36",
   "metadata": {},
   "outputs": [],
   "source": [
    "# model.eval()\n",
    "# with torch.no_grad():\n",
    "#     z = model.encode(x, data.edge_index)\n",
    "\n",
    "#     all_edges = list(map(tuple, edge_index.t().tolist()))\n",
    "#     train_edges, val_edges = train_test_split(all_edges, test_size=0.1, random_state=42)\n",
    "#     train_edges = torch.tensor(train_edges, dtype=torch.long).t()\n",
    "#     val_edges = torch.tensor(val_edges, dtype=torch.long).t()\n",
    "#     val_neg_edges = sample_neg_edge(edge_index, n_nodes, val_edges.size(1))\n",
    "\n",
    "#     val_pos_scores = model.decode(z, val_edges)\n",
    "#     val_neg_scores = model.decode(z, val_neg_edges)\n",
    "#     val_scores = torch.cat([val_pos_scores, val_neg_scores])\n",
    "#     val_labels = torch.cat([\n",
    "#         torch.ones(val_pos_scores.size(0)),\n",
    "#         torch.zeros(val_neg_scores.size(0))\n",
    "#     ])\n",
    "\n",
    "#     val_probs = torch.sigmoid(val_scores).cpu().numpy()\n",
    "#     val_labels = val_labels.cpu().numpy()\n",
    "\n",
    "# best_f1 = 0\n",
    "# best_threshold = 0.5\n",
    "# for t in np.arange(0.3, 0.6, 0.01):\n",
    "#     val_preds = (val_probs > t).astype(int)\n",
    "#     f1 = f1_score(val_labels, val_preds)\n",
    "#     if f1 > best_f1:\n",
    "#         best_f1 = f1\n",
    "#         best_threshold = t\n",
    "\n",
    "# print(f\"Best threshold by F1: {best_threshold:.2f} (F1 = {best_f1:.4f})\")"
   ]
  },
  {
   "cell_type": "markdown",
   "id": "be23cab9",
   "metadata": {},
   "source": [
    "Generate test.csv-like distribution to fine-tune F1 threshold"
   ]
  },
  {
   "cell_type": "code",
   "execution_count": 227,
   "id": "df05da32",
   "metadata": {},
   "outputs": [
    {
     "name": "stdout",
     "output_type": "stream",
     "text": [
      "Built test-like val set: 8000 positive, 8000 negative edges\n"
     ]
    }
   ],
   "source": [
    "val_pos_edges = []\n",
    "val_neg_edges = []\n",
    "train_edge_set = set(map(tuple, train_df[['node1', 'node2']].values.tolist()))\n",
    "train_edge_set |= set((v, u) for (u, v) in train_edge_set)\n",
    "\n",
    "for u, v in test_df[['node1', 'node2']].values.tolist():\n",
    "    if (u, v) not in train_edge_set and (v, u) not in train_edge_set:\n",
    "        val_pos_edges.append((u, v))\n",
    "\n",
    "while len(val_neg_edges) < len(val_pos_edges):\n",
    "    u = random.randint(0, n_nodes - 1)\n",
    "    v = random.randint(0, n_nodes - 1)\n",
    "    if u != v and (u, v) not in train_edge_set and (v, u) not in train_edge_set:\n",
    "        val_neg_edges.append((u, v))\n",
    "\n",
    "val_pos_edges = torch.tensor(val_pos_edges, dtype=torch.long).t()\n",
    "val_neg_edges = torch.tensor(val_neg_edges, dtype=torch.long).t()\n",
    "\n",
    "print(f\"Built test-like val set: {val_pos_edges.size(1)} positive, {val_neg_edges.size(1)} negative edges\")"
   ]
  },
  {
   "cell_type": "code",
   "execution_count": null,
   "id": "0bd73c11",
   "metadata": {},
   "outputs": [
    {
     "name": "stdout",
     "output_type": "stream",
     "text": [
      "Logits sample: [ 0.29426718 -4.221605   -0.41439882 -4.172765   -4.2971606  -4.15099\n",
      " -4.2577376  -4.299002    0.34700054 -0.12927485]\n",
      "Best threshold on test-like val set: 0.43 (F1 = 0.7867)\n"
     ]
    }
   ],
   "source": [
    "model.eval()\n",
    "with torch.no_grad():\n",
    "    z = model.encode(x, data.edge_index)\n",
    "\n",
    "    pos_scores = model.decode(z, val_pos_edges)\n",
    "    neg_scores = model.decode(z, val_neg_edges)\n",
    "\n",
    "    all_scores = torch.cat([pos_scores, neg_scores])\n",
    "    all_labels = torch.cat([\n",
    "        torch.ones(pos_scores.size(0)),\n",
    "        torch.zeros(neg_scores.size(0))\n",
    "    ])\n",
    "    \n",
    "    temperature = 1.5  # try values in [1.0, 3.0]\n",
    "    scaled_logits = all_scores / temperature\n",
    "\n",
    "    all_probs = torch.sigmoid(scaled_logits).cpu().numpy()\n",
    "    all_labels = all_labels.cpu().numpy()\n",
    "    print(\"Logits sample:\", all_scores[:10].cpu().numpy())\n",
    "\n",
    "best_f1 = 0\n",
    "best_threshold = 0.5\n",
    "for t in np.arange(0.3, 0.7, 0.01):\n",
    "    preds = (all_probs > t).astype(int)\n",
    "    f1 = f1_score(all_labels, preds)\n",
    "    if f1 > best_f1:\n",
    "        best_f1 = f1\n",
    "        best_threshold = t\n",
    "\n",
    "print(f\"Best threshold on test-like val set: {best_threshold:.2f} (F1 = {best_f1:.4f})\")"
   ]
  },
  {
   "cell_type": "code",
   "execution_count": 255,
   "id": "db38c0df",
   "metadata": {},
   "outputs": [
    {
     "data": {
      "image/png": "[encoded data removed]",
      "text/plain": [
       "<Figure size 600x400 with 1 Axes>"
      ]
     },
     "metadata": {},
     "output_type": "display_data"
    }
   ],
   "source": [
    "precision, recall, thresholds = precision_recall_curve(all_labels, all_probs)\n",
    "pr_auc = auc(recall, precision)\n",
    "\n",
    "# Plot it\n",
    "plt.figure(figsize=(6, 4))\n",
    "plt.plot(recall, precision, label=f\"PR AUC = {pr_auc:.4f}\")\n",
    "plt.xlabel(\"Recall\")\n",
    "plt.ylabel(\"Precision\")\n",
    "plt.title(\"Precision-Recall Curve (Validation)\")\n",
    "plt.legend()\n",
    "plt.grid(True)\n",
    "plt.tight_layout()\n",
    "plt.show()"
   ]
  },
  {
   "cell_type": "code",
   "execution_count": null,
   "id": "33cf9eda",
   "metadata": {},
   "outputs": [
    {
     "name": "stdout",
     "output_type": "stream",
     "text": [
      "preds saved\n"
     ]
    }
   ],
   "source": [
    "test_edges = torch.tensor(test_df[['node1', 'node2']].values.T, dtype=torch.long)\n",
    "with torch.no_grad():\n",
    "    scores = model.decode(z, test_edges)\n",
    "    probs = torch.sigmoid(scores).cpu().numpy()\n",
    "    preds = (probs > best_threshold).astype(int)\n",
    "\n",
    "submission = test_df[['idx']].copy()\n",
    "submission.rename(columns={'idx': 'predict_nodepair_id'}, inplace=True)\n",
    "submission['label'] = preds\n",
    "submission.to_csv(\"submissionv8.csv\", index=False)\n",
    "print(\"preds saved\")"
   ]
  }
 ],
 "metadata": {
  "kernelspec": {
   "display_name": "Python 3",
   "language": "python",
   "name": "python3"
  },
  "language_info": {
   "codemirror_mode": {
    "name": "ipython",
    "version": 3
   },
   "file_extension": ".py",
   "mimetype": "text/x-python",
   "name": "python",
   "nbconvert_exporter": "python",
   "pygments_lexer": "ipython3",
   "version": "3.12.8"
  }
 },
 "nbformat": 4,
 "nbformat_minor": 5
}
