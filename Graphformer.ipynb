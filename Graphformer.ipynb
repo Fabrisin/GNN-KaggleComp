{
 "cells": [
  {
   "cell_type": "code",
   "execution_count": 40,
   "id": "dfefc1b4",
   "metadata": {},
   "outputs": [],
   "source": [
    "import torch\n",
    "import torch.nn as nn\n",
    "import torch.nn.functional as F\n",
    "from torch_geometric.nn import Node2Vec, TransformerConv\n",
    "from torch_geometric.data import Data\n",
    "import pandas as pd\n",
    "import random\n",
    "from tqdm import tqdm\n",
    "from sklearn.metrics import f1_score\n",
    "import numpy as np\n",
    "from sklearn.model_selection import train_test_split\n",
    "import networkx as nx"
   ]
  },
  {
   "cell_type": "code",
   "execution_count": null,
   "id": "f927e5cb",
   "metadata": {},
   "outputs": [],
   "source": [
    "train_df = pd.read_csv(\"train.csv\")\n",
    "test_df = pd.read_csv(\"test.csv\")\n",
    "\n",
    "all_nodes = pd.unique(pd.concat([train_df['node1'], train_df['node2'], test_df['node1'], test_df['node2']]))\n",
    "node2idx = {node: idx for idx, node in enumerate(all_nodes)}\n",
    "n_nodes = len(node2idx)\n",
    "\n",
    "train_df['node1'] = train_df['node1'].map(node2idx)\n",
    "train_df['node2'] = train_df['node2'].map(node2idx)\n",
    "test_df['node1'] = test_df['node1'].map(node2idx)\n",
    "test_df['node2'] = test_df['node2'].map(node2idx)\n",
    "\n",
    "all_edges = list(map(tuple, train_df[['node1', 'node2']].values.tolist()))\n",
    "train_edges, val_edges = train_test_split(all_edges, test_size=0.1, random_state=42)\n",
    "\n",
    "edge_index = torch.tensor(train_edges, dtype=torch.long).t()\n",
    "reversed_edges = edge_index[[1, 0], :]\n",
    "edge_index = torch.cat([edge_index, reversed_edges], dim=1)\n",
    "data = Data(edge_index=edge_index)"
   ]
  },
  {
   "cell_type": "code",
   "execution_count": null,
   "id": "8814bcad",
   "metadata": {},
   "outputs": [],
   "source": [
    "in_deg = torch.zeros(n_nodes, dtype=torch.long)\n",
    "out_deg = torch.zeros(n_nodes, dtype=torch.long)\n",
    "\n",
    "for src, dst in edge_index.t():\n",
    "    out_deg[src] += 1\n",
    "    in_deg[dst] += 1\n",
    "    \n",
    "MAX_DEGREE = 500\n",
    "in_deg = torch.clamp(in_deg, max=MAX_DEGREE - 1)\n",
    "out_deg = torch.clamp(out_deg, max=MAX_DEGREE - 1)"
   ]
  },
  {
   "cell_type": "code",
   "execution_count": 43,
   "id": "118bb724",
   "metadata": {},
   "outputs": [],
   "source": [
    "MAX_SPD = 10\n",
    "G = nx.Graph()\n",
    "G.add_edges_from(train_edges)\n",
    "spd_dict = dict(nx.all_pairs_shortest_path_length(G, cutoff=MAX_SPD))\n",
    "spd_matrix = torch.full((n_nodes, n_nodes), MAX_SPD, dtype=torch.long)\n",
    "for src, targets in spd_dict.items():\n",
    "    for dst, dist in targets.items():\n",
    "        spd_matrix[src, dst] = min(dist, MAX_SPD - 1)"
   ]
  },
  {
   "cell_type": "code",
   "execution_count": 44,
   "id": "82c6653b",
   "metadata": {},
   "outputs": [],
   "source": [
    "# centrality\n",
    "pagerank = nx.pagerank(G)\n",
    "betweenness = nx.betweenness_centrality(G)\n",
    "closeness = nx.closeness_centrality(G)\n",
    "centrality_tensor = torch.zeros((n_nodes, 3))\n",
    "\n",
    "for node in range(n_nodes):\n",
    "    centrality_tensor[node, 0] = pagerank.get(node, 0.0)\n",
    "    centrality_tensor[node, 1] = betweenness.get(node, 0.0)\n",
    "    centrality_tensor[node, 2] = closeness.get(node, 0.0)"
   ]
  },
  {
   "cell_type": "code",
   "execution_count": 45,
   "id": "93adb907",
   "metadata": {},
   "outputs": [
    {
     "name": "stderr",
     "output_type": "stream",
     "text": [
      "                                                                              \r"
     ]
    },
    {
     "name": "stdout",
     "output_type": "stream",
     "text": [
      "Node2Vec Epoch 5, Total Loss: 110.8138\n"
     ]
    },
    {
     "name": "stderr",
     "output_type": "stream",
     "text": [
      "                                                                               \r"
     ]
    },
    {
     "name": "stdout",
     "output_type": "stream",
     "text": [
      "Node2Vec Epoch 10, Total Loss: 84.7706\n"
     ]
    },
    {
     "name": "stderr",
     "output_type": "stream",
     "text": [
      "                                                                               \r"
     ]
    },
    {
     "name": "stdout",
     "output_type": "stream",
     "text": [
      "Node2Vec Epoch 15, Total Loss: 77.8829\n"
     ]
    },
    {
     "name": "stderr",
     "output_type": "stream",
     "text": [
      "                                                                               \r"
     ]
    },
    {
     "name": "stdout",
     "output_type": "stream",
     "text": [
      "Node2Vec Epoch 20, Total Loss: 74.9276\n"
     ]
    },
    {
     "name": "stderr",
     "output_type": "stream",
     "text": [
      "                                                                               \r"
     ]
    },
    {
     "name": "stdout",
     "output_type": "stream",
     "text": [
      "Node2Vec Epoch 25, Total Loss: 73.3978\n"
     ]
    },
    {
     "name": "stderr",
     "output_type": "stream",
     "text": [
      "                                                                               "
     ]
    },
    {
     "name": "stdout",
     "output_type": "stream",
     "text": [
      "Node2Vec Epoch 30, Total Loss: 72.5895\n"
     ]
    },
    {
     "name": "stderr",
     "output_type": "stream",
     "text": [
      "\r"
     ]
    }
   ],
   "source": [
    "node2vec = Node2Vec(edge_index, embedding_dim=64, walk_length=20, context_size=10,\n",
    "                    walks_per_node=10, num_nodes=n_nodes, sparse=True)\n",
    "loader = node2vec.loader(batch_size=128, shuffle=True)\n",
    "optimizer_n2v = torch.optim.SparseAdam(list(node2vec.parameters()), lr=0.01)\n",
    "\n",
    "def train_node2vec():\n",
    "    node2vec.train()\n",
    "    for epoch in range(1, 31):\n",
    "        total_loss = 0\n",
    "        pbar = tqdm(loader, desc=f\"Node2Vec Epoch {epoch}\", leave=False)\n",
    "        for pos_rw, neg_rw in pbar:\n",
    "            optimizer_n2v.zero_grad()\n",
    "            loss = node2vec.loss(pos_rw, neg_rw)\n",
    "            loss.backward()\n",
    "            optimizer_n2v.step()\n",
    "            total_loss += loss.item()\n",
    "            pbar.set_postfix(loss=f\"{loss.item():.4f}\")\n",
    "        if epoch % 5 == 0:\n",
    "            tqdm.write(f\"Node2Vec Epoch {epoch}, Total Loss: {total_loss:.4f}\")\n",
    "\n",
    "train_node2vec()\n",
    "x_raw = node2vec.embedding.weight.detach()\n",
    "x_input = torch.cat([x_raw, centrality_tensor], dim=1)"
   ]
  },
  {
   "cell_type": "code",
   "execution_count": 107,
   "id": "8efb86a7",
   "metadata": {},
   "outputs": [],
   "source": [
    "class Graphormer(nn.Module):\n",
    "    def __init__(self, embedding_dim=67, hidden_dim=64, heads=4):\n",
    "        super().__init__()\n",
    "        self.input_proj = nn.Linear(embedding_dim, hidden_dim)\n",
    "        self.in_deg_emb = nn.Embedding(500, embedding_dim)\n",
    "        self.out_deg_emb = nn.Embedding(500, embedding_dim)\n",
    "        self.spd_emb = nn.Embedding(11, hidden_dim)\n",
    "\n",
    "        self.encoder = nn.Sequential(\n",
    "            TransformerConv(hidden_dim, hidden_dim // heads, heads=heads, dropout=0.2),\n",
    "            nn.ReLU(),\n",
    "            TransformerConv(hidden_dim, hidden_dim // heads, heads=heads, dropout=0.2)\n",
    "        )\n",
    "\n",
    "        self.edge_mlp = nn.Sequential(\n",
    "            nn.Linear(5 * hidden_dim, 512),\n",
    "            nn.BatchNorm1d(512),\n",
    "            nn.ReLU(),\n",
    "            nn.Dropout(0.2),\n",
    "            nn.Linear(512, 256),\n",
    "            nn.BatchNorm1d(256),\n",
    "            nn.ReLU(),\n",
    "            nn.Dropout(0.2),\n",
    "            nn.Linear(256, 64),\n",
    "            nn.BatchNorm1d(64),\n",
    "            nn.ReLU(),\n",
    "            nn.Dropout(0.2),\n",
    "            nn.Linear(64, 1)\n",
    "        )\n",
    "\n",
    "        self.dropout = nn.Dropout(0.2)\n",
    "\n",
    "    def encode(self, x, edge_index, in_deg_ids, out_deg_ids):\n",
    "        x = self.input_proj(x)\n",
    "        x = x + self.input_proj(self.in_deg_emb(in_deg_ids)) + self.input_proj(self.out_deg_emb(out_deg_ids))\n",
    "        x = self.encoder[0](x, edge_index)\n",
    "        x = self.encoder[1](x)\n",
    "        x = self.encoder[2](x, edge_index)\n",
    "        return x\n",
    "\n",
    "    def decode(self, z, edge_index, spd_matrix):\n",
    "        src, dst = edge_index\n",
    "        hadamard = z[src] * z[dst]\n",
    "        l1 = torch.abs(z[src] - z[dst])\n",
    "\n",
    "        spd_ids = spd_matrix[src, dst]\n",
    "        spd_feat = self.spd_emb(spd_ids)\n",
    "        mask = (spd_ids < 10).float().unsqueeze(1)\n",
    "        spd_feat = spd_feat * mask\n",
    "\n",
    "        edge_feat = torch.cat([z[src], z[dst], hadamard, l1, spd_feat], dim=1)\n",
    "        edge_feat = self.dropout(edge_feat)\n",
    "        \n",
    "        return self.edge_mlp(edge_feat).squeeze()\n"
   ]
  },
  {
   "cell_type": "code",
   "execution_count": 108,
   "id": "15bcbc69",
   "metadata": {},
   "outputs": [],
   "source": [
    "model = Graphormer(embedding_dim=x_input.size(1))\n",
    "optimizer = torch.optim.AdamW(model.parameters(), lr=0.005, weight_decay=1e-3)\n",
    "scheduler = torch.optim.lr_scheduler.StepLR(optimizer, step_size=30, gamma=0.5)\n",
    "pos_weight = torch.tensor([1.5])  \n",
    "criterion = nn.BCEWithLogitsLoss(pos_weight=pos_weight)\n",
    "\n",
    "clip_value = 1.0"
   ]
  },
  {
   "cell_type": "code",
   "execution_count": 99,
   "id": "3affc474",
   "metadata": {},
   "outputs": [],
   "source": [
    "# Instead of hard negative sampling\n",
    "def sample_neg_edge_fast(edge_index, num_nodes, num_samples):\n",
    "    edge_set = set(map(tuple, edge_index.t().tolist()))\n",
    "    neg_edges = set()\n",
    "    while len(neg_edges) < num_samples:\n",
    "        u = random.randint(0, num_nodes - 1)\n",
    "        v = random.randint(0, num_nodes - 1)\n",
    "        if u != v and (u, v) not in edge_set:\n",
    "            neg_edges.add((u, v))\n",
    "    return torch.tensor(list(neg_edges), dtype=torch.long).t()"
   ]
  },
  {
   "cell_type": "code",
   "execution_count": 109,
   "id": "40e35c39",
   "metadata": {},
   "outputs": [
    {
     "name": "stderr",
     "output_type": "stream",
     "text": [
      "Training:   7%|▋         | 10/150 [00:10<02:26,  1.05s/it]"
     ]
    },
    {
     "name": "stdout",
     "output_type": "stream",
     "text": [
      "Epoch 10, Loss: 0.55855817\n"
     ]
    },
    {
     "name": "stderr",
     "output_type": "stream",
     "text": [
      "Training:  13%|█▎        | 20/150 [00:21<02:13,  1.03s/it]"
     ]
    },
    {
     "name": "stdout",
     "output_type": "stream",
     "text": [
      "Epoch 20, Loss: 0.34813425\n"
     ]
    },
    {
     "name": "stderr",
     "output_type": "stream",
     "text": [
      "Training:  20%|██        | 30/150 [00:31<02:05,  1.05s/it]"
     ]
    },
    {
     "name": "stdout",
     "output_type": "stream",
     "text": [
      "Epoch 30, Loss: 0.18734917\n"
     ]
    },
    {
     "name": "stderr",
     "output_type": "stream",
     "text": [
      "Training:  27%|██▋       | 40/150 [00:42<01:57,  1.06s/it]"
     ]
    },
    {
     "name": "stdout",
     "output_type": "stream",
     "text": [
      "Epoch 40, Loss: 0.12946169\n"
     ]
    },
    {
     "name": "stderr",
     "output_type": "stream",
     "text": [
      "Training:  33%|███▎      | 50/150 [00:52<01:47,  1.08s/it]"
     ]
    },
    {
     "name": "stdout",
     "output_type": "stream",
     "text": [
      "Epoch 50, Loss: 0.09601518\n"
     ]
    },
    {
     "name": "stderr",
     "output_type": "stream",
     "text": [
      "Training:  40%|████      | 60/150 [01:03<01:35,  1.06s/it]"
     ]
    },
    {
     "name": "stdout",
     "output_type": "stream",
     "text": [
      "Epoch 60, Loss: 0.07488960\n"
     ]
    },
    {
     "name": "stderr",
     "output_type": "stream",
     "text": [
      "Training:  47%|████▋     | 70/150 [01:13<01:24,  1.06s/it]"
     ]
    },
    {
     "name": "stdout",
     "output_type": "stream",
     "text": [
      "Epoch 70, Loss: 0.06548190\n"
     ]
    },
    {
     "name": "stderr",
     "output_type": "stream",
     "text": [
      "Training:  53%|█████▎    | 80/150 [01:24<01:14,  1.06s/it]"
     ]
    },
    {
     "name": "stdout",
     "output_type": "stream",
     "text": [
      "Epoch 80, Loss: 0.05883764\n"
     ]
    },
    {
     "name": "stderr",
     "output_type": "stream",
     "text": [
      "Training:  60%|██████    | 90/150 [01:35<01:03,  1.07s/it]"
     ]
    },
    {
     "name": "stdout",
     "output_type": "stream",
     "text": [
      "Epoch 90, Loss: 0.05299313\n"
     ]
    },
    {
     "name": "stderr",
     "output_type": "stream",
     "text": [
      "Training:  67%|██████▋   | 100/150 [01:45<00:52,  1.05s/it]"
     ]
    },
    {
     "name": "stdout",
     "output_type": "stream",
     "text": [
      "Epoch 100, Loss: 0.04952390\n"
     ]
    },
    {
     "name": "stderr",
     "output_type": "stream",
     "text": [
      "Training:  73%|███████▎  | 110/150 [01:56<00:42,  1.06s/it]"
     ]
    },
    {
     "name": "stdout",
     "output_type": "stream",
     "text": [
      "Epoch 110, Loss: 0.04643441\n"
     ]
    },
    {
     "name": "stderr",
     "output_type": "stream",
     "text": [
      "Training:  80%|████████  | 120/150 [02:07<00:32,  1.07s/it]"
     ]
    },
    {
     "name": "stdout",
     "output_type": "stream",
     "text": [
      "Epoch 120, Loss: 0.04415439\n"
     ]
    },
    {
     "name": "stderr",
     "output_type": "stream",
     "text": [
      "Training:  87%|████████▋ | 130/150 [02:17<00:20,  1.05s/it]"
     ]
    },
    {
     "name": "stdout",
     "output_type": "stream",
     "text": [
      "Epoch 130, Loss: 0.04389695\n"
     ]
    },
    {
     "name": "stderr",
     "output_type": "stream",
     "text": [
      "Training:  93%|█████████▎| 140/150 [02:28<00:10,  1.06s/it]"
     ]
    },
    {
     "name": "stdout",
     "output_type": "stream",
     "text": [
      "Epoch 140, Loss: 0.04230328\n"
     ]
    },
    {
     "name": "stderr",
     "output_type": "stream",
     "text": [
      "Training: 100%|██████████| 150/150 [02:39<00:00,  1.06s/it]"
     ]
    },
    {
     "name": "stdout",
     "output_type": "stream",
     "text": [
      "Epoch 150, Loss: 0.04029765\n"
     ]
    },
    {
     "name": "stderr",
     "output_type": "stream",
     "text": [
      "\n"
     ]
    }
   ],
   "source": [
    "def train():\n",
    "    model.train()\n",
    "    optimizer.zero_grad()\n",
    "    z = model.encode(x_input, data.edge_index, in_deg, out_deg)\n",
    "\n",
    "    pos_edge = edge_index\n",
    "    neg_edge = sample_neg_edge_fast(edge_index, n_nodes, pos_edge.size(1))\n",
    "\n",
    "    pos_pred = model.decode(z, pos_edge, spd_matrix)\n",
    "    pos_label = torch.ones(pos_pred.size(0))\n",
    "\n",
    "    neg_pred = model.decode(z, neg_edge, spd_matrix)\n",
    "    neg_label = torch.zeros(neg_pred.size(0))\n",
    "\n",
    "    pred = torch.cat([pos_pred, neg_pred])\n",
    "    labels = torch.cat([pos_label, neg_label])\n",
    "\n",
    "    loss = criterion(pred, labels)\n",
    "    loss.backward()\n",
    "    nn.utils.clip_grad_norm_(model.parameters(), clip_value)\n",
    "    optimizer.step()\n",
    "    scheduler.step()\n",
    "    return loss.item()\n",
    "\n",
    "for epoch in tqdm(range(1, 151), desc=\"Training\"):\n",
    "    loss = train()\n",
    "    if epoch % 10 == 0:\n",
    "        tqdm.write(f\"Epoch {epoch}, Loss: {loss:.8f}\")"
   ]
  },
  {
   "cell_type": "code",
   "execution_count": 110,
   "id": "5fb146c8",
   "metadata": {},
   "outputs": [
    {
     "name": "stdout",
     "output_type": "stream",
     "text": [
      "Logits sample: [-0.12576875 -0.11187551 -0.3574853  -0.11812923 -0.12755501 -0.0998562\n",
      " -0.11374953 -0.12623239 -0.10487724 -0.11438506]\n",
      "Best threshold by F1: 0.30 (F1 = 0.6670)\n"
     ]
    }
   ],
   "source": [
    "model.eval()\n",
    "with torch.no_grad():\n",
    "    z = model.encode(x_input, data.edge_index, in_deg, out_deg)\n",
    "    val_edges = val_edges.t() if val_edges.shape[1] == 2 else val_edges\n",
    "\n",
    "    val_neg_edges = sample_neg_edge_fast(edge_index, n_nodes, val_edges.size(1))\n",
    "    val_pos_scores = model.decode(z, val_edges, spd_matrix)\n",
    "    val_neg_scores = model.decode(z, val_neg_edges, spd_matrix)\n",
    "    val_scores = torch.cat([val_pos_scores, val_neg_scores])\n",
    "\n",
    "    print(\"Logits sample:\", val_scores[:10].cpu().numpy())\n",
    "\n",
    "    val_labels = torch.cat([torch.ones(val_pos_scores.size(0)), torch.zeros(val_neg_scores.size(0))])\n",
    "    val_probs = torch.sigmoid(val_scores).cpu().numpy()\n",
    "    val_labels = val_labels.cpu().numpy()\n",
    "\n",
    "best_f1 = 0\n",
    "best_threshold = 0.5\n",
    "for t in np.arange(0.3, 0.6, 0.01):\n",
    "    val_preds = (val_probs > t).astype(int)\n",
    "    f1 = f1_score(val_labels, val_preds)\n",
    "    if f1 > best_f1:\n",
    "        best_f1 = f1\n",
    "        best_threshold = t\n",
    "\n",
    "print(f\"Best threshold by F1: {best_threshold:.2f} (F1 = {best_f1:.4f})\")"
   ]
  },
  {
   "cell_type": "code",
   "execution_count": 111,
   "id": "21054837",
   "metadata": {},
   "outputs": [
    {
     "data": {
      "image/png": "[encoded data removed]",
      "text/plain": [
       "<Figure size 640x480 with 1 Axes>"
      ]
     },
     "metadata": {},
     "output_type": "display_data"
    },
    {
     "name": "stdout",
     "output_type": "stream",
     "text": [
      "Labels count: [2109 2109]\n",
      "Preds > 0.5: 1848\n",
      "Preds < 0.5: 2370\n"
     ]
    }
   ],
   "source": [
    "import matplotlib.pyplot as plt\n",
    "\n",
    "plt.hist(val_probs, bins=50)\n",
    "plt.title(\"Validation Probability Distribution\")\n",
    "plt.xlabel(\"Predicted Probability\")\n",
    "plt.ylabel(\"Frequency\")\n",
    "plt.show()\n",
    "\n",
    "print(\"Labels count:\", np.bincount(val_labels.astype(int)))\n",
    "\n",
    "print(\"Preds > 0.5:\", np.sum(val_probs > 0.5))\n",
    "print(\"Preds < 0.5:\", np.sum(val_probs < 0.5))"
   ]
  },
  {
   "cell_type": "code",
   "execution_count": 112,
   "id": "bdd830b2",
   "metadata": {},
   "outputs": [
    {
     "name": "stdout",
     "output_type": "stream",
     "text": [
      "preds saved\n"
     ]
    }
   ],
   "source": [
    "test_edges = torch.tensor(test_df[['node1', 'node2']].values.T, dtype=torch.long)\n",
    "with torch.no_grad():\n",
    "    scores = model.decode(z, test_edges, spd_matrix)\n",
    "    probs = torch.sigmoid(scores).cpu().numpy()\n",
    "    preds = (probs > best_threshold).astype(int)\n",
    "\n",
    "submission = test_df[['idx']].copy()\n",
    "submission.rename(columns={'idx': 'predict_nodepair_id'}, inplace=True)\n",
    "submission['label'] = preds\n",
    "submission.to_csv(\"submission.csv\", index=False)\n",
    "print(\"preds saved\")"
   ]
  }
 ],
 "metadata": {
  "kernelspec": {
   "display_name": "Python 3",
   "language": "python",
   "name": "python3"
  },
  "language_info": {
   "codemirror_mode": {
    "name": "ipython",
    "version": 3
   },
   "file_extension": ".py",
   "mimetype": "text/x-python",
   "name": "python",
   "nbconvert_exporter": "python",
   "pygments_lexer": "ipython3",
   "version": "3.12.8"
  }
 },
 "nbformat": 4,
 "nbformat_minor": 5
}
